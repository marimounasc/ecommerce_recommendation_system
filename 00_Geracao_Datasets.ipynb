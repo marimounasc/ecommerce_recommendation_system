{
 "cells": [
  {
   "cell_type": "code",
   "execution_count": null,
   "metadata": {},
   "outputs": [],
   "source": [
    "import pandas as pd\n",
    "from faker import Faker\n",
    "import random"
   ]
  },
  {
   "cell_type": "code",
   "execution_count": null,
   "metadata": {},
   "outputs": [],
   "source": [
    "fake = Faker('pt_BR')"
   ]
  },
  {
   "cell_type": "code",
   "execution_count": null,
   "metadata": {},
   "outputs": [],
   "source": [
    "# Configuração de parâmetros\n",
    "num_users = 1000\n",
    "num_products = 500\n",
    "num_transactions = 10000\n",
    "num_reviews = 5000\n",
    "num_browsing_history = 20000"
   ]
  },
  {
   "cell_type": "code",
   "execution_count": null,
   "metadata": {},
   "outputs": [],
   "source": [
    "# Listas de avaliações em português, classificadas por nota\n",
    "avaliacoes_1 = [\n",
    "    \"Produto veio com defeito, não gostei.\",\n",
    "    \"Péssimo atendimento, não recomendo.\",\n",
    "    \"Não recomendo, produto de baixa qualidade.\",\n",
    "    \"Não compraria novamente, muito frágil.\",\n",
    "    \"Produto veio com peças faltando, péssimo.\"\n",
    "]\n",
    "\n",
    "avaliacoes_2 = [\n",
    "    \"Entrega demorou mais do que o esperado.\",\n",
    "    \"Muito caro para a qualidade oferecida.\",\n",
    "    \"Produto de acordo com a descrição, mas qualidade ruim.\",\n",
    "    \"Produto atende às necessidades básicas, mas não impressiona.\",\n",
    "    \"Decepcionado com a compra, esperava mais.\"\n",
    "]\n",
    "\n",
    "avaliacoes_3 = [\n",
    "    \"Bom custo-benefício.\",\n",
    "    \"Produto razoável, nada de especial.\",\n",
    "    \"Cumpre o que promete.\",\n",
    "    \"Qualidade razoável pelo preço pago.\",\n",
    "    \"Produto atende às expectativas mínimas.\"\n",
    "]\n",
    "\n",
    "avaliacoes_4 = [\n",
    "    \"Produto de excelente qualidade.\",\n",
    "    \"Entrega rápida e eficiente.\",\n",
    "    \"Muito bom, exatamente como descrito.\",\n",
    "    \"Produto bem embalado e chegou sem problemas.\",\n",
    "    \"Produto com ótimo acabamento.\"\n",
    "]\n",
    "\n",
    "avaliacoes_5 = [\n",
    "    \"Ótimo produto, recomendo!\",\n",
    "    \"Muito satisfeito com a compra.\",\n",
    "    \"Produto maravilhoso, superou minhas expectativas.\",\n",
    "    \"Qualidade excepcional, vale cada centavo.\",\n",
    "    \"Produto incrível, vale cada centavo.\"\n",
    "]"
   ]
  },
  {
   "cell_type": "code",
   "execution_count": null,
   "metadata": {},
   "outputs": [],
   "source": [
    "# Geração de Usuários\n",
    "users = []\n",
    "for _ in range(num_users):\n",
    "    users.append([fake.uuid4(), fake.name(), random.randint(18, 70), random.choice(['Masculino', 'Feminino']), fake.city(), fake.date_this_decade()])\n",
    "\n",
    "users_df = pd.DataFrame(users, columns=['user_id', 'nome', 'idade', 'sexo', 'localizacao', 'data_de_registro'])\n",
    "users_df"
   ]
  },
  {
   "cell_type": "code",
   "execution_count": null,
   "metadata": {},
   "outputs": [],
   "source": [
    "# Geração de Produtos\n",
    "products = []\n",
    "categories = ['Eletrônicos', 'Casa e Jardim', 'Esportes', 'Roupas', 'Automotivo']\n",
    "subcategories = {'Eletrônicos': ['Smartphones', 'Laptops', 'Tablets'],\n",
    "                 'Casa e Jardim': ['Cozinha', 'Móveis', 'Jardim'],\n",
    "                 'Esportes': ['Fitness', 'Outdoor', 'Indoor'],\n",
    "                 'Roupas': ['Masculino', 'Feminino', 'Infantil'],\n",
    "                 'Automotivo': ['Acessórios para Carro', 'Acessórios para Moto', 'Ferramentas']}\n",
    "\n",
    "for _ in range(num_products):\n",
    "    category = random.choice(categories)\n",
    "    subcategory = random.choice(subcategories[category])\n",
    "    products.append([fake.uuid4(), category, subcategory, fake.word(), round(random.uniform(10, 5000), 2), fake.company(), random.randint(0, 1000)])\n",
    "\n",
    "products_df = pd.DataFrame(products, columns=['product_id', 'categoria', 'subcategoria', 'nome', 'preco', 'marca', 'quantidade_em_estoque'])\n"
   ]
  },
  {
   "cell_type": "code",
   "execution_count": null,
   "metadata": {},
   "outputs": [],
   "source": [
    "# Geração de Transações\n",
    "transactions = []\n",
    "for _ in range(num_transactions):\n",
    "    transactions.append([fake.uuid4(), random.choice(users_df['user_id']), random.choice(products_df['product_id']), random.randint(1, 5), fake.date_this_year(), round(random.uniform(10, 5000), 2)])\n",
    "\n",
    "transactions_df = pd.DataFrame(transactions, columns=['transaction_id', 'user_id', 'product_id', 'quantidade', 'data_da_transacao', 'preco'])"
   ]
  },
  {
   "cell_type": "code",
   "execution_count": null,
   "metadata": {},
   "outputs": [],
   "source": [
    "# Geração de Avaliações\n",
    "reviews = []\n",
    "for _ in range(num_reviews):\n",
    "    user_id = random.choice(users_df['user_id'])\n",
    "    product_id = random.choice(products_df['product_id'])\n",
    "    rating = random.randint(1, 5)\n",
    "    \n",
    "    if rating == 1:\n",
    "        texto_avaliacao = random.choice(avaliacoes_1)\n",
    "    elif rating == 2:\n",
    "        texto_avaliacao = random.choice(avaliacoes_2)\n",
    "    elif rating == 3:\n",
    "        texto_avaliacao = random.choice(avaliacoes_3)\n",
    "    elif rating == 4:\n",
    "        texto_avaliacao = random.choice(avaliacoes_4)\n",
    "    elif rating == 5:\n",
    "        texto_avaliacao = random.choice(avaliacoes_5)\n",
    "    \n",
    "    reviews.append([fake.uuid4(), user_id, product_id, rating, texto_avaliacao, fake.date_this_year()])\n",
    "\n",
    "reviews_df = pd.DataFrame(reviews, columns=['review_id', 'user_id', 'product_id', 'avaliacao', 'texto_da_avaliacao', 'data_da_avaliacao'])\n",
    "reviews_df"
   ]
  },
  {
   "cell_type": "code",
   "execution_count": null,
   "metadata": {},
   "outputs": [],
   "source": [
    "# Geração de Histórico de Navegação\n",
    "browsing_history = []\n",
    "actions = ['visualizacao', 'adicionar_ao_carrinho', 'compra']\n",
    "for _ in range(num_browsing_history):\n",
    "    browsing_history.append([fake.uuid4(), random.choice(users_df['user_id']), random.choice(products_df['product_id']), fake.date_time_this_year(), random.choice(actions)])\n",
    "\n",
    "browsing_history_df = pd.DataFrame(browsing_history, columns=['session_id', 'user_id', 'product_id', 'timestamp', 'tipo_de_acao'])\n",
    "browsing_history_df"
   ]
  }
 ],
 "metadata": {
  "kernelspec": {
   "display_name": "base",
   "language": "python",
   "name": "python3"
  },
  "language_info": {
   "codemirror_mode": {
    "name": "ipython",
    "version": 3
   },
   "file_extension": ".py",
   "mimetype": "text/x-python",
   "name": "python",
   "nbconvert_exporter": "python",
   "pygments_lexer": "ipython3",
   "version": "3.9.7"
  }
 },
 "nbformat": 4,
 "nbformat_minor": 2
}
